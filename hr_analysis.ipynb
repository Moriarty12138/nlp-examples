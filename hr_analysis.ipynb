{
  "nbformat": 4,
  "nbformat_minor": 0,
  "metadata": {
    "colab": {
      "name": "hr_analysis.ipynb",
      "provenance": [],
      "collapsed_sections": [],
      "mount_file_id": "1TQCAyTYXJ9MbxHIFIdsXQHmDml5Voj4F",
      "authorship_tag": "ABX9TyOo9nGOiwzraJyM3DWPoVJW",
      "include_colab_link": true
    },
    "kernelspec": {
      "name": "python3",
      "display_name": "Python 3"
    },
    "language_info": {
      "name": "python"
    }
  },
  "cells": [
    {
      "cell_type": "markdown",
      "metadata": {
        "id": "view-in-github",
        "colab_type": "text"
      },
      "source": [
        "<a href=\"https://colab.research.google.com/github/Moriarty12138/nlp-demos/blob/main/hr_analysis.ipynb\" target=\"_parent\"><img src=\"https://colab.research.google.com/assets/colab-badge.svg\" alt=\"Open In Colab\"/></a>"
      ]
    },
    {
      "cell_type": "markdown",
      "source": [
        "**员工离职分析**"
      ],
      "metadata": {
        "id": "F7faxdkeXZ4U"
      }
    },
    {
      "cell_type": "code",
      "execution_count": 1,
      "metadata": {
        "id": "JuDmC1IsWZEt"
      },
      "outputs": [],
      "source": [
        "from pandas.core.arrays.sparse import array\n",
        "import numpy as np\n",
        "import pandas as pd\n",
        "from sklearn.model_selection import train_test_split\n",
        "from sklearn.neighbors import KNeighborsClassifier\n",
        "from sklearn import datasets\n",
        "from sklearn import preprocessing\n",
        "from sklearn.svm import SVC\n",
        "import warnings\n",
        "warnings.filterwarnings('ignore')\n",
        "from sklearn.linear_model import LogisticRegression\n",
        "pd.set_option('display.max_columns', None)\n",
        "import matplotlib\n",
        "import matplotlib.pyplot as plt\n",
        "# plt.rcParams['front.sans-self'] = ['SimHei'] # 解决中文乱码\n",
        "# plt.rc('figure', figsize=(10, 6)) # 设置图像大小\n",
        "import seaborn as sns\n",
        "import math\n",
        "import statsmodels.api as sm\n",
        "# from numpy import corrcoef.array\n",
        "from statsmodels.formula.api import ols\n",
        "# matplotlib.rcParams['axes.unicode_minus'] = False"
      ]
    },
    {
      "cell_type": "code",
      "source": [
        "df = pd.read_csv('/content/drive/MyDrive/Colab Notebooks/IBM员工离职.csv')  # 读取数据"
      ],
      "metadata": {
        "id": "LAK-dQpogSfE"
      },
      "execution_count": 2,
      "outputs": []
    },
    {
      "cell_type": "code",
      "source": [
        "df.describe()"
      ],
      "metadata": {
        "colab": {
          "base_uri": "https://localhost:8080/",
          "height": 364
        },
        "id": "_uo8FuLEgjWy",
        "outputId": "03699fb4-05c6-421b-cf10-81e945471eff"
      },
      "execution_count": 3,
      "outputs": [
        {
          "output_type": "execute_result",
          "data": {
            "text/html": [
              "\n",
              "  <div id=\"df-e324ebd2-a50b-414e-880e-f338fb9d5fdc\">\n",
              "    <div class=\"colab-df-container\">\n",
              "      <div>\n",
              "<style scoped>\n",
              "    .dataframe tbody tr th:only-of-type {\n",
              "        vertical-align: middle;\n",
              "    }\n",
              "\n",
              "    .dataframe tbody tr th {\n",
              "        vertical-align: top;\n",
              "    }\n",
              "\n",
              "    .dataframe thead th {\n",
              "        text-align: right;\n",
              "    }\n",
              "</style>\n",
              "<table border=\"1\" class=\"dataframe\">\n",
              "  <thead>\n",
              "    <tr style=\"text-align: right;\">\n",
              "      <th></th>\n",
              "      <th>Age</th>\n",
              "      <th>DailyRate</th>\n",
              "      <th>DistanceFromHome</th>\n",
              "      <th>Education</th>\n",
              "      <th>EmployeeCount</th>\n",
              "      <th>EmployeeNumber</th>\n",
              "      <th>EnvironmentSatisfaction</th>\n",
              "      <th>HourlyRate</th>\n",
              "      <th>JobInvolvement</th>\n",
              "      <th>JobLevel</th>\n",
              "      <th>JobSatisfaction</th>\n",
              "      <th>MonthlyIncome</th>\n",
              "      <th>MonthlyRate</th>\n",
              "      <th>NumCompaniesWorked</th>\n",
              "      <th>PercentSalaryHike</th>\n",
              "      <th>PerformanceRating</th>\n",
              "      <th>RelationshipSatisfaction</th>\n",
              "      <th>StandardHours</th>\n",
              "      <th>StockOptionLevel</th>\n",
              "      <th>TotalWorkingYears</th>\n",
              "      <th>TrainingTimesLastYear</th>\n",
              "      <th>WorkLifeBalance</th>\n",
              "      <th>YearsAtCompany</th>\n",
              "      <th>YearsInCurrentRole</th>\n",
              "      <th>YearsSinceLastPromotion</th>\n",
              "      <th>YearsWithCurrManager</th>\n",
              "    </tr>\n",
              "  </thead>\n",
              "  <tbody>\n",
              "    <tr>\n",
              "      <th>count</th>\n",
              "      <td>1470.000000</td>\n",
              "      <td>1470.000000</td>\n",
              "      <td>1470.000000</td>\n",
              "      <td>1470.000000</td>\n",
              "      <td>1470.0</td>\n",
              "      <td>1470.000000</td>\n",
              "      <td>1470.000000</td>\n",
              "      <td>1470.000000</td>\n",
              "      <td>1470.000000</td>\n",
              "      <td>1470.000000</td>\n",
              "      <td>1470.000000</td>\n",
              "      <td>1470.000000</td>\n",
              "      <td>1470.000000</td>\n",
              "      <td>1470.000000</td>\n",
              "      <td>1470.000000</td>\n",
              "      <td>1470.000000</td>\n",
              "      <td>1470.000000</td>\n",
              "      <td>1470.0</td>\n",
              "      <td>1470.000000</td>\n",
              "      <td>1470.000000</td>\n",
              "      <td>1470.000000</td>\n",
              "      <td>1470.000000</td>\n",
              "      <td>1470.000000</td>\n",
              "      <td>1470.000000</td>\n",
              "      <td>1470.000000</td>\n",
              "      <td>1470.000000</td>\n",
              "    </tr>\n",
              "    <tr>\n",
              "      <th>mean</th>\n",
              "      <td>36.923810</td>\n",
              "      <td>802.485714</td>\n",
              "      <td>9.192517</td>\n",
              "      <td>2.912925</td>\n",
              "      <td>1.0</td>\n",
              "      <td>1024.865306</td>\n",
              "      <td>2.721769</td>\n",
              "      <td>65.891156</td>\n",
              "      <td>2.729932</td>\n",
              "      <td>2.063946</td>\n",
              "      <td>2.728571</td>\n",
              "      <td>6502.931293</td>\n",
              "      <td>14313.103401</td>\n",
              "      <td>2.693197</td>\n",
              "      <td>15.209524</td>\n",
              "      <td>3.153741</td>\n",
              "      <td>2.712245</td>\n",
              "      <td>80.0</td>\n",
              "      <td>0.793878</td>\n",
              "      <td>11.279592</td>\n",
              "      <td>2.799320</td>\n",
              "      <td>2.761224</td>\n",
              "      <td>7.008163</td>\n",
              "      <td>4.229252</td>\n",
              "      <td>2.187755</td>\n",
              "      <td>4.123129</td>\n",
              "    </tr>\n",
              "    <tr>\n",
              "      <th>std</th>\n",
              "      <td>9.135373</td>\n",
              "      <td>403.509100</td>\n",
              "      <td>8.106864</td>\n",
              "      <td>1.024165</td>\n",
              "      <td>0.0</td>\n",
              "      <td>602.024335</td>\n",
              "      <td>1.093082</td>\n",
              "      <td>20.329428</td>\n",
              "      <td>0.711561</td>\n",
              "      <td>1.106940</td>\n",
              "      <td>1.102846</td>\n",
              "      <td>4707.956783</td>\n",
              "      <td>7117.786044</td>\n",
              "      <td>2.498009</td>\n",
              "      <td>3.659938</td>\n",
              "      <td>0.360824</td>\n",
              "      <td>1.081209</td>\n",
              "      <td>0.0</td>\n",
              "      <td>0.852077</td>\n",
              "      <td>7.780782</td>\n",
              "      <td>1.289271</td>\n",
              "      <td>0.706476</td>\n",
              "      <td>6.126525</td>\n",
              "      <td>3.623137</td>\n",
              "      <td>3.222430</td>\n",
              "      <td>3.568136</td>\n",
              "    </tr>\n",
              "    <tr>\n",
              "      <th>min</th>\n",
              "      <td>18.000000</td>\n",
              "      <td>102.000000</td>\n",
              "      <td>1.000000</td>\n",
              "      <td>1.000000</td>\n",
              "      <td>1.0</td>\n",
              "      <td>1.000000</td>\n",
              "      <td>1.000000</td>\n",
              "      <td>30.000000</td>\n",
              "      <td>1.000000</td>\n",
              "      <td>1.000000</td>\n",
              "      <td>1.000000</td>\n",
              "      <td>1009.000000</td>\n",
              "      <td>2094.000000</td>\n",
              "      <td>0.000000</td>\n",
              "      <td>11.000000</td>\n",
              "      <td>3.000000</td>\n",
              "      <td>1.000000</td>\n",
              "      <td>80.0</td>\n",
              "      <td>0.000000</td>\n",
              "      <td>0.000000</td>\n",
              "      <td>0.000000</td>\n",
              "      <td>1.000000</td>\n",
              "      <td>0.000000</td>\n",
              "      <td>0.000000</td>\n",
              "      <td>0.000000</td>\n",
              "      <td>0.000000</td>\n",
              "    </tr>\n",
              "    <tr>\n",
              "      <th>25%</th>\n",
              "      <td>30.000000</td>\n",
              "      <td>465.000000</td>\n",
              "      <td>2.000000</td>\n",
              "      <td>2.000000</td>\n",
              "      <td>1.0</td>\n",
              "      <td>491.250000</td>\n",
              "      <td>2.000000</td>\n",
              "      <td>48.000000</td>\n",
              "      <td>2.000000</td>\n",
              "      <td>1.000000</td>\n",
              "      <td>2.000000</td>\n",
              "      <td>2911.000000</td>\n",
              "      <td>8047.000000</td>\n",
              "      <td>1.000000</td>\n",
              "      <td>12.000000</td>\n",
              "      <td>3.000000</td>\n",
              "      <td>2.000000</td>\n",
              "      <td>80.0</td>\n",
              "      <td>0.000000</td>\n",
              "      <td>6.000000</td>\n",
              "      <td>2.000000</td>\n",
              "      <td>2.000000</td>\n",
              "      <td>3.000000</td>\n",
              "      <td>2.000000</td>\n",
              "      <td>0.000000</td>\n",
              "      <td>2.000000</td>\n",
              "    </tr>\n",
              "    <tr>\n",
              "      <th>50%</th>\n",
              "      <td>36.000000</td>\n",
              "      <td>802.000000</td>\n",
              "      <td>7.000000</td>\n",
              "      <td>3.000000</td>\n",
              "      <td>1.0</td>\n",
              "      <td>1020.500000</td>\n",
              "      <td>3.000000</td>\n",
              "      <td>66.000000</td>\n",
              "      <td>3.000000</td>\n",
              "      <td>2.000000</td>\n",
              "      <td>3.000000</td>\n",
              "      <td>4919.000000</td>\n",
              "      <td>14235.500000</td>\n",
              "      <td>2.000000</td>\n",
              "      <td>14.000000</td>\n",
              "      <td>3.000000</td>\n",
              "      <td>3.000000</td>\n",
              "      <td>80.0</td>\n",
              "      <td>1.000000</td>\n",
              "      <td>10.000000</td>\n",
              "      <td>3.000000</td>\n",
              "      <td>3.000000</td>\n",
              "      <td>5.000000</td>\n",
              "      <td>3.000000</td>\n",
              "      <td>1.000000</td>\n",
              "      <td>3.000000</td>\n",
              "    </tr>\n",
              "    <tr>\n",
              "      <th>75%</th>\n",
              "      <td>43.000000</td>\n",
              "      <td>1157.000000</td>\n",
              "      <td>14.000000</td>\n",
              "      <td>4.000000</td>\n",
              "      <td>1.0</td>\n",
              "      <td>1555.750000</td>\n",
              "      <td>4.000000</td>\n",
              "      <td>83.750000</td>\n",
              "      <td>3.000000</td>\n",
              "      <td>3.000000</td>\n",
              "      <td>4.000000</td>\n",
              "      <td>8379.000000</td>\n",
              "      <td>20461.500000</td>\n",
              "      <td>4.000000</td>\n",
              "      <td>18.000000</td>\n",
              "      <td>3.000000</td>\n",
              "      <td>4.000000</td>\n",
              "      <td>80.0</td>\n",
              "      <td>1.000000</td>\n",
              "      <td>15.000000</td>\n",
              "      <td>3.000000</td>\n",
              "      <td>3.000000</td>\n",
              "      <td>9.000000</td>\n",
              "      <td>7.000000</td>\n",
              "      <td>3.000000</td>\n",
              "      <td>7.000000</td>\n",
              "    </tr>\n",
              "    <tr>\n",
              "      <th>max</th>\n",
              "      <td>60.000000</td>\n",
              "      <td>1499.000000</td>\n",
              "      <td>29.000000</td>\n",
              "      <td>5.000000</td>\n",
              "      <td>1.0</td>\n",
              "      <td>2068.000000</td>\n",
              "      <td>4.000000</td>\n",
              "      <td>100.000000</td>\n",
              "      <td>4.000000</td>\n",
              "      <td>5.000000</td>\n",
              "      <td>4.000000</td>\n",
              "      <td>19999.000000</td>\n",
              "      <td>26999.000000</td>\n",
              "      <td>9.000000</td>\n",
              "      <td>25.000000</td>\n",
              "      <td>4.000000</td>\n",
              "      <td>4.000000</td>\n",
              "      <td>80.0</td>\n",
              "      <td>3.000000</td>\n",
              "      <td>40.000000</td>\n",
              "      <td>6.000000</td>\n",
              "      <td>4.000000</td>\n",
              "      <td>40.000000</td>\n",
              "      <td>18.000000</td>\n",
              "      <td>15.000000</td>\n",
              "      <td>17.000000</td>\n",
              "    </tr>\n",
              "  </tbody>\n",
              "</table>\n",
              "</div>\n",
              "      <button class=\"colab-df-convert\" onclick=\"convertToInteractive('df-e324ebd2-a50b-414e-880e-f338fb9d5fdc')\"\n",
              "              title=\"Convert this dataframe to an interactive table.\"\n",
              "              style=\"display:none;\">\n",
              "        \n",
              "  <svg xmlns=\"http://www.w3.org/2000/svg\" height=\"24px\"viewBox=\"0 0 24 24\"\n",
              "       width=\"24px\">\n",
              "    <path d=\"M0 0h24v24H0V0z\" fill=\"none\"/>\n",
              "    <path d=\"M18.56 5.44l.94 2.06.94-2.06 2.06-.94-2.06-.94-.94-2.06-.94 2.06-2.06.94zm-11 1L8.5 8.5l.94-2.06 2.06-.94-2.06-.94L8.5 2.5l-.94 2.06-2.06.94zm10 10l.94 2.06.94-2.06 2.06-.94-2.06-.94-.94-2.06-.94 2.06-2.06.94z\"/><path d=\"M17.41 7.96l-1.37-1.37c-.4-.4-.92-.59-1.43-.59-.52 0-1.04.2-1.43.59L10.3 9.45l-7.72 7.72c-.78.78-.78 2.05 0 2.83L4 21.41c.39.39.9.59 1.41.59.51 0 1.02-.2 1.41-.59l7.78-7.78 2.81-2.81c.8-.78.8-2.07 0-2.86zM5.41 20L4 18.59l7.72-7.72 1.47 1.35L5.41 20z\"/>\n",
              "  </svg>\n",
              "      </button>\n",
              "      \n",
              "  <style>\n",
              "    .colab-df-container {\n",
              "      display:flex;\n",
              "      flex-wrap:wrap;\n",
              "      gap: 12px;\n",
              "    }\n",
              "\n",
              "    .colab-df-convert {\n",
              "      background-color: #E8F0FE;\n",
              "      border: none;\n",
              "      border-radius: 50%;\n",
              "      cursor: pointer;\n",
              "      display: none;\n",
              "      fill: #1967D2;\n",
              "      height: 32px;\n",
              "      padding: 0 0 0 0;\n",
              "      width: 32px;\n",
              "    }\n",
              "\n",
              "    .colab-df-convert:hover {\n",
              "      background-color: #E2EBFA;\n",
              "      box-shadow: 0px 1px 2px rgba(60, 64, 67, 0.3), 0px 1px 3px 1px rgba(60, 64, 67, 0.15);\n",
              "      fill: #174EA6;\n",
              "    }\n",
              "\n",
              "    [theme=dark] .colab-df-convert {\n",
              "      background-color: #3B4455;\n",
              "      fill: #D2E3FC;\n",
              "    }\n",
              "\n",
              "    [theme=dark] .colab-df-convert:hover {\n",
              "      background-color: #434B5C;\n",
              "      box-shadow: 0px 1px 3px 1px rgba(0, 0, 0, 0.15);\n",
              "      filter: drop-shadow(0px 1px 2px rgba(0, 0, 0, 0.3));\n",
              "      fill: #FFFFFF;\n",
              "    }\n",
              "  </style>\n",
              "\n",
              "      <script>\n",
              "        const buttonEl =\n",
              "          document.querySelector('#df-e324ebd2-a50b-414e-880e-f338fb9d5fdc button.colab-df-convert');\n",
              "        buttonEl.style.display =\n",
              "          google.colab.kernel.accessAllowed ? 'block' : 'none';\n",
              "\n",
              "        async function convertToInteractive(key) {\n",
              "          const element = document.querySelector('#df-e324ebd2-a50b-414e-880e-f338fb9d5fdc');\n",
              "          const dataTable =\n",
              "            await google.colab.kernel.invokeFunction('convertToInteractive',\n",
              "                                                     [key], {});\n",
              "          if (!dataTable) return;\n",
              "\n",
              "          const docLinkHtml = 'Like what you see? Visit the ' +\n",
              "            '<a target=\"_blank\" href=https://colab.research.google.com/notebooks/data_table.ipynb>data table notebook</a>'\n",
              "            + ' to learn more about interactive tables.';\n",
              "          element.innerHTML = '';\n",
              "          dataTable['output_type'] = 'display_data';\n",
              "          await google.colab.output.renderOutput(dataTable, element);\n",
              "          const docLink = document.createElement('div');\n",
              "          docLink.innerHTML = docLinkHtml;\n",
              "          element.appendChild(docLink);\n",
              "        }\n",
              "      </script>\n",
              "    </div>\n",
              "  </div>\n",
              "  "
            ],
            "text/plain": [
              "               Age    DailyRate  DistanceFromHome    Education  EmployeeCount  \\\n",
              "count  1470.000000  1470.000000       1470.000000  1470.000000         1470.0   \n",
              "mean     36.923810   802.485714          9.192517     2.912925            1.0   \n",
              "std       9.135373   403.509100          8.106864     1.024165            0.0   \n",
              "min      18.000000   102.000000          1.000000     1.000000            1.0   \n",
              "25%      30.000000   465.000000          2.000000     2.000000            1.0   \n",
              "50%      36.000000   802.000000          7.000000     3.000000            1.0   \n",
              "75%      43.000000  1157.000000         14.000000     4.000000            1.0   \n",
              "max      60.000000  1499.000000         29.000000     5.000000            1.0   \n",
              "\n",
              "       EmployeeNumber  EnvironmentSatisfaction   HourlyRate  JobInvolvement  \\\n",
              "count     1470.000000              1470.000000  1470.000000     1470.000000   \n",
              "mean      1024.865306                 2.721769    65.891156        2.729932   \n",
              "std        602.024335                 1.093082    20.329428        0.711561   \n",
              "min          1.000000                 1.000000    30.000000        1.000000   \n",
              "25%        491.250000                 2.000000    48.000000        2.000000   \n",
              "50%       1020.500000                 3.000000    66.000000        3.000000   \n",
              "75%       1555.750000                 4.000000    83.750000        3.000000   \n",
              "max       2068.000000                 4.000000   100.000000        4.000000   \n",
              "\n",
              "          JobLevel  JobSatisfaction  MonthlyIncome   MonthlyRate  \\\n",
              "count  1470.000000      1470.000000    1470.000000   1470.000000   \n",
              "mean      2.063946         2.728571    6502.931293  14313.103401   \n",
              "std       1.106940         1.102846    4707.956783   7117.786044   \n",
              "min       1.000000         1.000000    1009.000000   2094.000000   \n",
              "25%       1.000000         2.000000    2911.000000   8047.000000   \n",
              "50%       2.000000         3.000000    4919.000000  14235.500000   \n",
              "75%       3.000000         4.000000    8379.000000  20461.500000   \n",
              "max       5.000000         4.000000   19999.000000  26999.000000   \n",
              "\n",
              "       NumCompaniesWorked  PercentSalaryHike  PerformanceRating  \\\n",
              "count         1470.000000        1470.000000        1470.000000   \n",
              "mean             2.693197          15.209524           3.153741   \n",
              "std              2.498009           3.659938           0.360824   \n",
              "min              0.000000          11.000000           3.000000   \n",
              "25%              1.000000          12.000000           3.000000   \n",
              "50%              2.000000          14.000000           3.000000   \n",
              "75%              4.000000          18.000000           3.000000   \n",
              "max              9.000000          25.000000           4.000000   \n",
              "\n",
              "       RelationshipSatisfaction  StandardHours  StockOptionLevel  \\\n",
              "count               1470.000000         1470.0       1470.000000   \n",
              "mean                   2.712245           80.0          0.793878   \n",
              "std                    1.081209            0.0          0.852077   \n",
              "min                    1.000000           80.0          0.000000   \n",
              "25%                    2.000000           80.0          0.000000   \n",
              "50%                    3.000000           80.0          1.000000   \n",
              "75%                    4.000000           80.0          1.000000   \n",
              "max                    4.000000           80.0          3.000000   \n",
              "\n",
              "       TotalWorkingYears  TrainingTimesLastYear  WorkLifeBalance  \\\n",
              "count        1470.000000            1470.000000      1470.000000   \n",
              "mean           11.279592               2.799320         2.761224   \n",
              "std             7.780782               1.289271         0.706476   \n",
              "min             0.000000               0.000000         1.000000   \n",
              "25%             6.000000               2.000000         2.000000   \n",
              "50%            10.000000               3.000000         3.000000   \n",
              "75%            15.000000               3.000000         3.000000   \n",
              "max            40.000000               6.000000         4.000000   \n",
              "\n",
              "       YearsAtCompany  YearsInCurrentRole  YearsSinceLastPromotion  \\\n",
              "count     1470.000000         1470.000000              1470.000000   \n",
              "mean         7.008163            4.229252                 2.187755   \n",
              "std          6.126525            3.623137                 3.222430   \n",
              "min          0.000000            0.000000                 0.000000   \n",
              "25%          3.000000            2.000000                 0.000000   \n",
              "50%          5.000000            3.000000                 1.000000   \n",
              "75%          9.000000            7.000000                 3.000000   \n",
              "max         40.000000           18.000000                15.000000   \n",
              "\n",
              "       YearsWithCurrManager  \n",
              "count           1470.000000  \n",
              "mean               4.123129  \n",
              "std                3.568136  \n",
              "min                0.000000  \n",
              "25%                2.000000  \n",
              "50%                3.000000  \n",
              "75%                7.000000  \n",
              "max               17.000000  "
            ]
          },
          "metadata": {},
          "execution_count": 3
        }
      ]
    },
    {
      "cell_type": "code",
      "source": [
        "df.head()"
      ],
      "metadata": {
        "colab": {
          "base_uri": "https://localhost:8080/",
          "height": 357
        },
        "id": "8jCqpIh5hVL1",
        "outputId": "eca027da-0592-4ed0-a522-1c2c530b864d"
      },
      "execution_count": 4,
      "outputs": [
        {
          "output_type": "execute_result",
          "data": {
            "text/html": [
              "\n",
              "  <div id=\"df-b042bf25-e586-439b-bea9-3f2ab5e01904\">\n",
              "    <div class=\"colab-df-container\">\n",
              "      <div>\n",
              "<style scoped>\n",
              "    .dataframe tbody tr th:only-of-type {\n",
              "        vertical-align: middle;\n",
              "    }\n",
              "\n",
              "    .dataframe tbody tr th {\n",
              "        vertical-align: top;\n",
              "    }\n",
              "\n",
              "    .dataframe thead th {\n",
              "        text-align: right;\n",
              "    }\n",
              "</style>\n",
              "<table border=\"1\" class=\"dataframe\">\n",
              "  <thead>\n",
              "    <tr style=\"text-align: right;\">\n",
              "      <th></th>\n",
              "      <th>Age</th>\n",
              "      <th>Attrition</th>\n",
              "      <th>BusinessTravel</th>\n",
              "      <th>DailyRate</th>\n",
              "      <th>Department</th>\n",
              "      <th>DistanceFromHome</th>\n",
              "      <th>Education</th>\n",
              "      <th>EducationField</th>\n",
              "      <th>EmployeeCount</th>\n",
              "      <th>EmployeeNumber</th>\n",
              "      <th>EnvironmentSatisfaction</th>\n",
              "      <th>Gender</th>\n",
              "      <th>HourlyRate</th>\n",
              "      <th>JobInvolvement</th>\n",
              "      <th>JobLevel</th>\n",
              "      <th>JobRole</th>\n",
              "      <th>JobSatisfaction</th>\n",
              "      <th>MaritalStatus</th>\n",
              "      <th>MonthlyIncome</th>\n",
              "      <th>MonthlyRate</th>\n",
              "      <th>NumCompaniesWorked</th>\n",
              "      <th>Over18</th>\n",
              "      <th>OverTime</th>\n",
              "      <th>PercentSalaryHike</th>\n",
              "      <th>PerformanceRating</th>\n",
              "      <th>RelationshipSatisfaction</th>\n",
              "      <th>StandardHours</th>\n",
              "      <th>StockOptionLevel</th>\n",
              "      <th>TotalWorkingYears</th>\n",
              "      <th>TrainingTimesLastYear</th>\n",
              "      <th>WorkLifeBalance</th>\n",
              "      <th>YearsAtCompany</th>\n",
              "      <th>YearsInCurrentRole</th>\n",
              "      <th>YearsSinceLastPromotion</th>\n",
              "      <th>YearsWithCurrManager</th>\n",
              "    </tr>\n",
              "  </thead>\n",
              "  <tbody>\n",
              "    <tr>\n",
              "      <th>0</th>\n",
              "      <td>41</td>\n",
              "      <td>Yes</td>\n",
              "      <td>Travel_Rarely</td>\n",
              "      <td>1102</td>\n",
              "      <td>Sales</td>\n",
              "      <td>1</td>\n",
              "      <td>2</td>\n",
              "      <td>Life Sciences</td>\n",
              "      <td>1</td>\n",
              "      <td>1</td>\n",
              "      <td>2</td>\n",
              "      <td>Female</td>\n",
              "      <td>94</td>\n",
              "      <td>3</td>\n",
              "      <td>2</td>\n",
              "      <td>Sales Executive</td>\n",
              "      <td>4</td>\n",
              "      <td>Single</td>\n",
              "      <td>5993</td>\n",
              "      <td>19479</td>\n",
              "      <td>8</td>\n",
              "      <td>Y</td>\n",
              "      <td>Yes</td>\n",
              "      <td>11</td>\n",
              "      <td>3</td>\n",
              "      <td>1</td>\n",
              "      <td>80</td>\n",
              "      <td>0</td>\n",
              "      <td>8</td>\n",
              "      <td>0</td>\n",
              "      <td>1</td>\n",
              "      <td>6</td>\n",
              "      <td>4</td>\n",
              "      <td>0</td>\n",
              "      <td>5</td>\n",
              "    </tr>\n",
              "    <tr>\n",
              "      <th>1</th>\n",
              "      <td>49</td>\n",
              "      <td>No</td>\n",
              "      <td>Travel_Frequently</td>\n",
              "      <td>279</td>\n",
              "      <td>Research &amp; Development</td>\n",
              "      <td>8</td>\n",
              "      <td>1</td>\n",
              "      <td>Life Sciences</td>\n",
              "      <td>1</td>\n",
              "      <td>2</td>\n",
              "      <td>3</td>\n",
              "      <td>Male</td>\n",
              "      <td>61</td>\n",
              "      <td>2</td>\n",
              "      <td>2</td>\n",
              "      <td>Research Scientist</td>\n",
              "      <td>2</td>\n",
              "      <td>Married</td>\n",
              "      <td>5130</td>\n",
              "      <td>24907</td>\n",
              "      <td>1</td>\n",
              "      <td>Y</td>\n",
              "      <td>No</td>\n",
              "      <td>23</td>\n",
              "      <td>4</td>\n",
              "      <td>4</td>\n",
              "      <td>80</td>\n",
              "      <td>1</td>\n",
              "      <td>10</td>\n",
              "      <td>3</td>\n",
              "      <td>3</td>\n",
              "      <td>10</td>\n",
              "      <td>7</td>\n",
              "      <td>1</td>\n",
              "      <td>7</td>\n",
              "    </tr>\n",
              "    <tr>\n",
              "      <th>2</th>\n",
              "      <td>37</td>\n",
              "      <td>Yes</td>\n",
              "      <td>Travel_Rarely</td>\n",
              "      <td>1373</td>\n",
              "      <td>Research &amp; Development</td>\n",
              "      <td>2</td>\n",
              "      <td>2</td>\n",
              "      <td>Other</td>\n",
              "      <td>1</td>\n",
              "      <td>4</td>\n",
              "      <td>4</td>\n",
              "      <td>Male</td>\n",
              "      <td>92</td>\n",
              "      <td>2</td>\n",
              "      <td>1</td>\n",
              "      <td>Laboratory Technician</td>\n",
              "      <td>3</td>\n",
              "      <td>Single</td>\n",
              "      <td>2090</td>\n",
              "      <td>2396</td>\n",
              "      <td>6</td>\n",
              "      <td>Y</td>\n",
              "      <td>Yes</td>\n",
              "      <td>15</td>\n",
              "      <td>3</td>\n",
              "      <td>2</td>\n",
              "      <td>80</td>\n",
              "      <td>0</td>\n",
              "      <td>7</td>\n",
              "      <td>3</td>\n",
              "      <td>3</td>\n",
              "      <td>0</td>\n",
              "      <td>0</td>\n",
              "      <td>0</td>\n",
              "      <td>0</td>\n",
              "    </tr>\n",
              "    <tr>\n",
              "      <th>3</th>\n",
              "      <td>33</td>\n",
              "      <td>No</td>\n",
              "      <td>Travel_Frequently</td>\n",
              "      <td>1392</td>\n",
              "      <td>Research &amp; Development</td>\n",
              "      <td>3</td>\n",
              "      <td>4</td>\n",
              "      <td>Life Sciences</td>\n",
              "      <td>1</td>\n",
              "      <td>5</td>\n",
              "      <td>4</td>\n",
              "      <td>Female</td>\n",
              "      <td>56</td>\n",
              "      <td>3</td>\n",
              "      <td>1</td>\n",
              "      <td>Research Scientist</td>\n",
              "      <td>3</td>\n",
              "      <td>Married</td>\n",
              "      <td>2909</td>\n",
              "      <td>23159</td>\n",
              "      <td>1</td>\n",
              "      <td>Y</td>\n",
              "      <td>Yes</td>\n",
              "      <td>11</td>\n",
              "      <td>3</td>\n",
              "      <td>3</td>\n",
              "      <td>80</td>\n",
              "      <td>0</td>\n",
              "      <td>8</td>\n",
              "      <td>3</td>\n",
              "      <td>3</td>\n",
              "      <td>8</td>\n",
              "      <td>7</td>\n",
              "      <td>3</td>\n",
              "      <td>0</td>\n",
              "    </tr>\n",
              "    <tr>\n",
              "      <th>4</th>\n",
              "      <td>27</td>\n",
              "      <td>No</td>\n",
              "      <td>Travel_Rarely</td>\n",
              "      <td>591</td>\n",
              "      <td>Research &amp; Development</td>\n",
              "      <td>2</td>\n",
              "      <td>1</td>\n",
              "      <td>Medical</td>\n",
              "      <td>1</td>\n",
              "      <td>7</td>\n",
              "      <td>1</td>\n",
              "      <td>Male</td>\n",
              "      <td>40</td>\n",
              "      <td>3</td>\n",
              "      <td>1</td>\n",
              "      <td>Laboratory Technician</td>\n",
              "      <td>2</td>\n",
              "      <td>Married</td>\n",
              "      <td>3468</td>\n",
              "      <td>16632</td>\n",
              "      <td>9</td>\n",
              "      <td>Y</td>\n",
              "      <td>No</td>\n",
              "      <td>12</td>\n",
              "      <td>3</td>\n",
              "      <td>4</td>\n",
              "      <td>80</td>\n",
              "      <td>1</td>\n",
              "      <td>6</td>\n",
              "      <td>3</td>\n",
              "      <td>3</td>\n",
              "      <td>2</td>\n",
              "      <td>2</td>\n",
              "      <td>2</td>\n",
              "      <td>2</td>\n",
              "    </tr>\n",
              "  </tbody>\n",
              "</table>\n",
              "</div>\n",
              "      <button class=\"colab-df-convert\" onclick=\"convertToInteractive('df-b042bf25-e586-439b-bea9-3f2ab5e01904')\"\n",
              "              title=\"Convert this dataframe to an interactive table.\"\n",
              "              style=\"display:none;\">\n",
              "        \n",
              "  <svg xmlns=\"http://www.w3.org/2000/svg\" height=\"24px\"viewBox=\"0 0 24 24\"\n",
              "       width=\"24px\">\n",
              "    <path d=\"M0 0h24v24H0V0z\" fill=\"none\"/>\n",
              "    <path d=\"M18.56 5.44l.94 2.06.94-2.06 2.06-.94-2.06-.94-.94-2.06-.94 2.06-2.06.94zm-11 1L8.5 8.5l.94-2.06 2.06-.94-2.06-.94L8.5 2.5l-.94 2.06-2.06.94zm10 10l.94 2.06.94-2.06 2.06-.94-2.06-.94-.94-2.06-.94 2.06-2.06.94z\"/><path d=\"M17.41 7.96l-1.37-1.37c-.4-.4-.92-.59-1.43-.59-.52 0-1.04.2-1.43.59L10.3 9.45l-7.72 7.72c-.78.78-.78 2.05 0 2.83L4 21.41c.39.39.9.59 1.41.59.51 0 1.02-.2 1.41-.59l7.78-7.78 2.81-2.81c.8-.78.8-2.07 0-2.86zM5.41 20L4 18.59l7.72-7.72 1.47 1.35L5.41 20z\"/>\n",
              "  </svg>\n",
              "      </button>\n",
              "      \n",
              "  <style>\n",
              "    .colab-df-container {\n",
              "      display:flex;\n",
              "      flex-wrap:wrap;\n",
              "      gap: 12px;\n",
              "    }\n",
              "\n",
              "    .colab-df-convert {\n",
              "      background-color: #E8F0FE;\n",
              "      border: none;\n",
              "      border-radius: 50%;\n",
              "      cursor: pointer;\n",
              "      display: none;\n",
              "      fill: #1967D2;\n",
              "      height: 32px;\n",
              "      padding: 0 0 0 0;\n",
              "      width: 32px;\n",
              "    }\n",
              "\n",
              "    .colab-df-convert:hover {\n",
              "      background-color: #E2EBFA;\n",
              "      box-shadow: 0px 1px 2px rgba(60, 64, 67, 0.3), 0px 1px 3px 1px rgba(60, 64, 67, 0.15);\n",
              "      fill: #174EA6;\n",
              "    }\n",
              "\n",
              "    [theme=dark] .colab-df-convert {\n",
              "      background-color: #3B4455;\n",
              "      fill: #D2E3FC;\n",
              "    }\n",
              "\n",
              "    [theme=dark] .colab-df-convert:hover {\n",
              "      background-color: #434B5C;\n",
              "      box-shadow: 0px 1px 3px 1px rgba(0, 0, 0, 0.15);\n",
              "      filter: drop-shadow(0px 1px 2px rgba(0, 0, 0, 0.3));\n",
              "      fill: #FFFFFF;\n",
              "    }\n",
              "  </style>\n",
              "\n",
              "      <script>\n",
              "        const buttonEl =\n",
              "          document.querySelector('#df-b042bf25-e586-439b-bea9-3f2ab5e01904 button.colab-df-convert');\n",
              "        buttonEl.style.display =\n",
              "          google.colab.kernel.accessAllowed ? 'block' : 'none';\n",
              "\n",
              "        async function convertToInteractive(key) {\n",
              "          const element = document.querySelector('#df-b042bf25-e586-439b-bea9-3f2ab5e01904');\n",
              "          const dataTable =\n",
              "            await google.colab.kernel.invokeFunction('convertToInteractive',\n",
              "                                                     [key], {});\n",
              "          if (!dataTable) return;\n",
              "\n",
              "          const docLinkHtml = 'Like what you see? Visit the ' +\n",
              "            '<a target=\"_blank\" href=https://colab.research.google.com/notebooks/data_table.ipynb>data table notebook</a>'\n",
              "            + ' to learn more about interactive tables.';\n",
              "          element.innerHTML = '';\n",
              "          dataTable['output_type'] = 'display_data';\n",
              "          await google.colab.output.renderOutput(dataTable, element);\n",
              "          const docLink = document.createElement('div');\n",
              "          docLink.innerHTML = docLinkHtml;\n",
              "          element.appendChild(docLink);\n",
              "        }\n",
              "      </script>\n",
              "    </div>\n",
              "  </div>\n",
              "  "
            ],
            "text/plain": [
              "   Age Attrition     BusinessTravel  DailyRate              Department  \\\n",
              "0   41       Yes      Travel_Rarely       1102                   Sales   \n",
              "1   49        No  Travel_Frequently        279  Research & Development   \n",
              "2   37       Yes      Travel_Rarely       1373  Research & Development   \n",
              "3   33        No  Travel_Frequently       1392  Research & Development   \n",
              "4   27        No      Travel_Rarely        591  Research & Development   \n",
              "\n",
              "   DistanceFromHome  Education EducationField  EmployeeCount  EmployeeNumber  \\\n",
              "0                 1          2  Life Sciences              1               1   \n",
              "1                 8          1  Life Sciences              1               2   \n",
              "2                 2          2          Other              1               4   \n",
              "3                 3          4  Life Sciences              1               5   \n",
              "4                 2          1        Medical              1               7   \n",
              "\n",
              "   EnvironmentSatisfaction  Gender  HourlyRate  JobInvolvement  JobLevel  \\\n",
              "0                        2  Female          94               3         2   \n",
              "1                        3    Male          61               2         2   \n",
              "2                        4    Male          92               2         1   \n",
              "3                        4  Female          56               3         1   \n",
              "4                        1    Male          40               3         1   \n",
              "\n",
              "                 JobRole  JobSatisfaction MaritalStatus  MonthlyIncome  \\\n",
              "0        Sales Executive                4        Single           5993   \n",
              "1     Research Scientist                2       Married           5130   \n",
              "2  Laboratory Technician                3        Single           2090   \n",
              "3     Research Scientist                3       Married           2909   \n",
              "4  Laboratory Technician                2       Married           3468   \n",
              "\n",
              "   MonthlyRate  NumCompaniesWorked Over18 OverTime  PercentSalaryHike  \\\n",
              "0        19479                   8      Y      Yes                 11   \n",
              "1        24907                   1      Y       No                 23   \n",
              "2         2396                   6      Y      Yes                 15   \n",
              "3        23159                   1      Y      Yes                 11   \n",
              "4        16632                   9      Y       No                 12   \n",
              "\n",
              "   PerformanceRating  RelationshipSatisfaction  StandardHours  \\\n",
              "0                  3                         1             80   \n",
              "1                  4                         4             80   \n",
              "2                  3                         2             80   \n",
              "3                  3                         3             80   \n",
              "4                  3                         4             80   \n",
              "\n",
              "   StockOptionLevel  TotalWorkingYears  TrainingTimesLastYear  \\\n",
              "0                 0                  8                      0   \n",
              "1                 1                 10                      3   \n",
              "2                 0                  7                      3   \n",
              "3                 0                  8                      3   \n",
              "4                 1                  6                      3   \n",
              "\n",
              "   WorkLifeBalance  YearsAtCompany  YearsInCurrentRole  \\\n",
              "0                1               6                   4   \n",
              "1                3              10                   7   \n",
              "2                3               0                   0   \n",
              "3                3               8                   7   \n",
              "4                3               2                   2   \n",
              "\n",
              "   YearsSinceLastPromotion  YearsWithCurrManager  \n",
              "0                        0                     5  \n",
              "1                        1                     7  \n",
              "2                        0                     0  \n",
              "3                        3                     0  \n",
              "4                        2                     2  "
            ]
          },
          "metadata": {},
          "execution_count": 4
        }
      ]
    },
    {
      "cell_type": "code",
      "source": [
        "# 表名\n",
        "df.columns"
      ],
      "metadata": {
        "colab": {
          "base_uri": "https://localhost:8080/"
        },
        "id": "hSBrROnM7DM5",
        "outputId": "eb5d0ac9-7de7-4894-8949-b3d7dcf59802"
      },
      "execution_count": 5,
      "outputs": [
        {
          "output_type": "execute_result",
          "data": {
            "text/plain": [
              "Index(['Age', 'Attrition', 'BusinessTravel', 'DailyRate', 'Department',\n",
              "       'DistanceFromHome', 'Education', 'EducationField', 'EmployeeCount',\n",
              "       'EmployeeNumber', 'EnvironmentSatisfaction', 'Gender', 'HourlyRate',\n",
              "       'JobInvolvement', 'JobLevel', 'JobRole', 'JobSatisfaction',\n",
              "       'MaritalStatus', 'MonthlyIncome', 'MonthlyRate', 'NumCompaniesWorked',\n",
              "       'Over18', 'OverTime', 'PercentSalaryHike', 'PerformanceRating',\n",
              "       'RelationshipSatisfaction', 'StandardHours', 'StockOptionLevel',\n",
              "       'TotalWorkingYears', 'TrainingTimesLastYear', 'WorkLifeBalance',\n",
              "       'YearsAtCompany', 'YearsInCurrentRole', 'YearsSinceLastPromotion',\n",
              "       'YearsWithCurrManager'],\n",
              "      dtype='object')"
            ]
          },
          "metadata": {},
          "execution_count": 5
        }
      ]
    },
    {
      "cell_type": "markdown",
      "source": [
        "**各个字段含义**\n",
        "\n",
        "Age 年龄  \n",
        "Attrition 当前员工状态，Yes为离职，No为在职  \n",
        "BusinessTravel  \n",
        "DailyRate 每日投入率  \n",
        "Department 部门  \n",
        "DistanceFromHome 离家距离  \n",
        "Education  \n",
        "EducationField  \n",
        "EmployeeCount  \n",
        "EmployeeNumber  \n",
        "EnvironmentStatisfaction 环境满意度  \n",
        "Gender  \n",
        "HourlyRate  \n",
        "JobInvolvment  \n",
        "JobLevel  \n",
        "JobRole  \n",
        "JobSatisfaction 工作满意度  \n",
        "MaritalStatus  \n",
        "MonthlyIncome  \n",
        "MonthlyRate  \n",
        "NumCompaniesWorked  \n",
        "Over18  \n",
        "OverTime  \n",
        "PercentSalaryHike  \n",
        "PerformanceRating  \n",
        "RelationshipSatisfaction 关系满意度  \n",
        "StandardHours  \n",
        "StockOptionLevel  \n",
        "TotalWorkingYears  \n",
        "WorkLifeBalance  \n",
        "YearsAtCompany  \n",
        "YearsInCurrentRole  \n",
        "YearsSinceLastPromotion  \n",
        "YearsWithCurrManager "
      ],
      "metadata": {
        "id": "sYoX4fCpZpvu"
      }
    },
    {
      "cell_type": "code",
      "source": [
        "df.info()"
      ],
      "metadata": {
        "colab": {
          "base_uri": "https://localhost:8080/"
        },
        "outputId": "400d78f5-8f6e-46d8-f461-489cb8551693",
        "id": "AIVwD7lPZfKh"
      },
      "execution_count": 6,
      "outputs": [
        {
          "output_type": "stream",
          "name": "stdout",
          "text": [
            "<class 'pandas.core.frame.DataFrame'>\n",
            "RangeIndex: 1470 entries, 0 to 1469\n",
            "Data columns (total 35 columns):\n",
            " #   Column                    Non-Null Count  Dtype \n",
            "---  ------                    --------------  ----- \n",
            " 0   Age                       1470 non-null   int64 \n",
            " 1   Attrition                 1470 non-null   object\n",
            " 2   BusinessTravel            1470 non-null   object\n",
            " 3   DailyRate                 1470 non-null   int64 \n",
            " 4   Department                1470 non-null   object\n",
            " 5   DistanceFromHome          1470 non-null   int64 \n",
            " 6   Education                 1470 non-null   int64 \n",
            " 7   EducationField            1470 non-null   object\n",
            " 8   EmployeeCount             1470 non-null   int64 \n",
            " 9   EmployeeNumber            1470 non-null   int64 \n",
            " 10  EnvironmentSatisfaction   1470 non-null   int64 \n",
            " 11  Gender                    1470 non-null   object\n",
            " 12  HourlyRate                1470 non-null   int64 \n",
            " 13  JobInvolvement            1470 non-null   int64 \n",
            " 14  JobLevel                  1470 non-null   int64 \n",
            " 15  JobRole                   1470 non-null   object\n",
            " 16  JobSatisfaction           1470 non-null   int64 \n",
            " 17  MaritalStatus             1470 non-null   object\n",
            " 18  MonthlyIncome             1470 non-null   int64 \n",
            " 19  MonthlyRate               1470 non-null   int64 \n",
            " 20  NumCompaniesWorked        1470 non-null   int64 \n",
            " 21  Over18                    1470 non-null   object\n",
            " 22  OverTime                  1470 non-null   object\n",
            " 23  PercentSalaryHike         1470 non-null   int64 \n",
            " 24  PerformanceRating         1470 non-null   int64 \n",
            " 25  RelationshipSatisfaction  1470 non-null   int64 \n",
            " 26  StandardHours             1470 non-null   int64 \n",
            " 27  StockOptionLevel          1470 non-null   int64 \n",
            " 28  TotalWorkingYears         1470 non-null   int64 \n",
            " 29  TrainingTimesLastYear     1470 non-null   int64 \n",
            " 30  WorkLifeBalance           1470 non-null   int64 \n",
            " 31  YearsAtCompany            1470 non-null   int64 \n",
            " 32  YearsInCurrentRole        1470 non-null   int64 \n",
            " 33  YearsSinceLastPromotion   1470 non-null   int64 \n",
            " 34  YearsWithCurrManager      1470 non-null   int64 \n",
            "dtypes: int64(26), object(9)\n",
            "memory usage: 402.1+ KB\n"
          ]
        }
      ]
    },
    {
      "cell_type": "code",
      "source": [
        "df.info()"
      ],
      "metadata": {
        "colab": {
          "base_uri": "https://localhost:8080/"
        },
        "id": "BfXdqm0ZhcGB",
        "outputId": "31e1a835-74ed-4eae-bc78-fd693d4428ae"
      },
      "execution_count": 7,
      "outputs": [
        {
          "output_type": "stream",
          "name": "stdout",
          "text": [
            "<class 'pandas.core.frame.DataFrame'>\n",
            "RangeIndex: 1470 entries, 0 to 1469\n",
            "Data columns (total 35 columns):\n",
            " #   Column                    Non-Null Count  Dtype \n",
            "---  ------                    --------------  ----- \n",
            " 0   Age                       1470 non-null   int64 \n",
            " 1   Attrition                 1470 non-null   object\n",
            " 2   BusinessTravel            1470 non-null   object\n",
            " 3   DailyRate                 1470 non-null   int64 \n",
            " 4   Department                1470 non-null   object\n",
            " 5   DistanceFromHome          1470 non-null   int64 \n",
            " 6   Education                 1470 non-null   int64 \n",
            " 7   EducationField            1470 non-null   object\n",
            " 8   EmployeeCount             1470 non-null   int64 \n",
            " 9   EmployeeNumber            1470 non-null   int64 \n",
            " 10  EnvironmentSatisfaction   1470 non-null   int64 \n",
            " 11  Gender                    1470 non-null   object\n",
            " 12  HourlyRate                1470 non-null   int64 \n",
            " 13  JobInvolvement            1470 non-null   int64 \n",
            " 14  JobLevel                  1470 non-null   int64 \n",
            " 15  JobRole                   1470 non-null   object\n",
            " 16  JobSatisfaction           1470 non-null   int64 \n",
            " 17  MaritalStatus             1470 non-null   object\n",
            " 18  MonthlyIncome             1470 non-null   int64 \n",
            " 19  MonthlyRate               1470 non-null   int64 \n",
            " 20  NumCompaniesWorked        1470 non-null   int64 \n",
            " 21  Over18                    1470 non-null   object\n",
            " 22  OverTime                  1470 non-null   object\n",
            " 23  PercentSalaryHike         1470 non-null   int64 \n",
            " 24  PerformanceRating         1470 non-null   int64 \n",
            " 25  RelationshipSatisfaction  1470 non-null   int64 \n",
            " 26  StandardHours             1470 non-null   int64 \n",
            " 27  StockOptionLevel          1470 non-null   int64 \n",
            " 28  TotalWorkingYears         1470 non-null   int64 \n",
            " 29  TrainingTimesLastYear     1470 non-null   int64 \n",
            " 30  WorkLifeBalance           1470 non-null   int64 \n",
            " 31  YearsAtCompany            1470 non-null   int64 \n",
            " 32  YearsInCurrentRole        1470 non-null   int64 \n",
            " 33  YearsSinceLastPromotion   1470 non-null   int64 \n",
            " 34  YearsWithCurrManager      1470 non-null   int64 \n",
            "dtypes: int64(26), object(9)\n",
            "memory usage: 402.1+ KB\n"
          ]
        }
      ]
    },
    {
      "cell_type": "code",
      "source": [
        "# 离职员工人数\n",
        "sum(df['Attrition']=='Yes')"
      ],
      "metadata": {
        "colab": {
          "base_uri": "https://localhost:8080/"
        },
        "id": "0YjcMtSrgoGK",
        "outputId": "ad1a4d5d-a6d8-44b0-8420-8749772b3e6a"
      },
      "execution_count": 8,
      "outputs": [
        {
          "output_type": "execute_result",
          "data": {
            "text/plain": [
              "237"
            ]
          },
          "metadata": {},
          "execution_count": 8
        }
      ]
    },
    {
      "cell_type": "code",
      "source": [
        "# 在职员工人数\n",
        "sum(df['Attrition']=='No')"
      ],
      "metadata": {
        "colab": {
          "base_uri": "https://localhost:8080/"
        },
        "id": "kw0tCRQa2FwE",
        "outputId": "c75f4cac-a0a7-4dda-9f96-bba6c488d0d8"
      },
      "execution_count": 9,
      "outputs": [
        {
          "output_type": "execute_result",
          "data": {
            "text/plain": [
              "1233"
            ]
          },
          "metadata": {},
          "execution_count": 9
        }
      ]
    },
    {
      "cell_type": "code",
      "source": [
        "# 离职、在职员工饼图\n",
        "plt.figure(figsize=(18, 8))\n",
        "labels = ['on site', 'off site']\n",
        "# fraces = [84, 16]\n",
        "# 在职、离职员工数量\n",
        "fraces = [sum(df['Attrition']=='No'), sum(df['Attrition']=='Yes')]\n",
        "explode = (0, 0.05)\n",
        "colors = ['lightskyblue', 'tomato']\n",
        "plt.pie(x=fraces, labels=labels, explode=explode, colors=colors)\n",
        "plt.show()"
      ],
      "metadata": {
        "colab": {
          "base_uri": "https://localhost:8080/",
          "height": 466
        },
        "id": "t74hjSAjhFNr",
        "outputId": "eec6fbec-45f3-4bfe-dff6-7e757f9179af"
      },
      "execution_count": 10,
      "outputs": [
        {
          "output_type": "display_data",
          "data": {
            "image/png": "[encoded data removed]",
            "text/plain": [
              "<Figure size 1296x576 with 1 Axes>"
            ]
          },
          "metadata": {}
        }
      ]
    },
    {
      "cell_type": "code",
      "source": [
        "# 各部门员工状态柱状图\n",
        "fig = plt.figure(figsize=[10,6])\n",
        "ax1 = fig.add_subplot(1, 1, 1)\n",
        "df1 = pd.crosstab(df['Department'], df['Attrition'])\n",
        "df1.plot(kind='bar', ax=ax1)"
      ],
      "metadata": {
        "id": "VRs2OUU9ja7c",
        "colab": {
          "base_uri": "https://localhost:8080/",
          "height": 523
        },
        "outputId": "5e39203f-be46-46bc-b0a5-c23a0a563d25"
      },
      "execution_count": 11,
      "outputs": [
        {
          "output_type": "execute_result",
          "data": {
            "text/plain": [
              "<matplotlib.axes._subplots.AxesSubplot at 0x7f80f344f190>"
            ]
          },
          "metadata": {},
          "execution_count": 11
        },
        {
          "output_type": "display_data",
          "data": {
            "image/png": "[encoded data removed]",
            "text/plain": [
              "<Figure size 720x432 with 1 Axes>"
            ]
          },
          "metadata": {
            "needs_background": "light"
          }
        }
      ]
    },
    {
      "cell_type": "code",
      "source": [
        "# 差旅和加班情况柱状图\n",
        "plt.figure(figsize=(18, 8))\n",
        "sns.countplot(x='BusinessTravel', hue='Attrition', data=df, ax=plt.subplot(131))\n",
        "sns.countplot(x='OverTime', hue='Attrition', data=df, ax=plt.subplot(132))"
      ],
      "metadata": {
        "colab": {
          "base_uri": "https://localhost:8080/",
          "height": 516
        },
        "id": "Eok4AW3f1XbK",
        "outputId": "9a32caaf-9017-49b1-ac97-1ece522d0983"
      },
      "execution_count": 12,
      "outputs": [
        {
          "output_type": "execute_result",
          "data": {
            "text/plain": [
              "<matplotlib.axes._subplots.AxesSubplot at 0x7f80f2e6b050>"
            ]
          },
          "metadata": {},
          "execution_count": 12
        },
        {
          "output_type": "display_data",
          "data": {
            "image/png": "[encoded data removed]",
            "text/plain": [
              "<Figure size 1296x576 with 2 Axes>"
            ]
          },
          "metadata": {
            "needs_background": "light"
          }
        }
      ]
    },
    {
      "cell_type": "code",
      "source": [
        "# 工作满意度分析\n",
        "plt.figure(figsize=(18, 8))\n",
        "sns.boxplot(x='Attrition', y='JobSatisfaction', data=df, ax=plt.subplot(121))"
      ],
      "metadata": {
        "colab": {
          "base_uri": "https://localhost:8080/",
          "height": 515
        },
        "id": "TBu6qaWh4CZs",
        "outputId": "62900d52-10a5-466a-d0fa-d6f1833fde54"
      },
      "execution_count": 13,
      "outputs": [
        {
          "output_type": "execute_result",
          "data": {
            "text/plain": [
              "<matplotlib.axes._subplots.AxesSubplot at 0x7f80f2d8ec50>"
            ]
          },
          "metadata": {},
          "execution_count": 13
        },
        {
          "output_type": "display_data",
          "data": {
            "image/png": "[encoded data removed]",
            "text/plain": [
              "<Figure size 1296x576 with 1 Axes>"
            ]
          },
          "metadata": {
            "needs_background": "light"
          }
        }
      ]
    },
    {
      "cell_type": "code",
      "source": [
        "# 环境满意度对员工离职影响柱状图\n",
        "# 环境满意度总共分为4种：1、2、3、4\n",
        "x = [1, 2]\n",
        "df_on_site = df[df['Attrition']=='No']\n",
        "df_off_site = df[df['Attrition']=='Yes']\n",
        "on_site_sat_num = [sum(df_on_site['EnvironmentSatisfaction']==1), sum(df_on_site['EnvironmentSatisfaction']==2), sum(df_on_site['EnvironmentSatisfaction']==3), sum(df_on_site['EnvironmentSatisfaction']==4)]\n",
        "off_site_sat_num = [sum(df_off_site['EnvironmentSatisfaction']==1), sum(df_off_site['EnvironmentSatisfaction']==2), sum(df_off_site['EnvironmentSatisfaction']==3), sum(df_off_site['EnvironmentSatisfaction']==4)]\n",
        "sat_num = ['1', '2', '3', '4']\n",
        "y_on_site = np.array(on_site_sat_num)\n",
        "y_off_site = np.array(off_site_sat_num)\n",
        "plt.bar(range(4), on_site_sat_num, label='on site', fc='y')\n",
        "plt.bar(range(4), off_site_sat_num, bottom=on_site_sat_num, label='off site', tick_label=sat_num, fc='r')\n",
        "plt.show()\n"
      ],
      "metadata": {
        "id": "3HTo46vr5vzz",
        "colab": {
          "base_uri": "https://localhost:8080/",
          "height": 265
        },
        "outputId": "f1bfeceb-43ac-43ba-bd35-19561ee488e7"
      },
      "execution_count": 14,
      "outputs": [
        {
          "output_type": "display_data",
          "data": {
            "image/png": "[encoded data removed]",
            "text/plain": [
              "<Figure size 432x288 with 1 Axes>"
            ]
          },
          "metadata": {
            "needs_background": "light"
          }
        }
      ]
    },
    {
      "cell_type": "code",
      "source": [
        "# 关系满意度对员工离职影响柱状图\n",
        "# 关系满意度人数\n",
        "RS1 = np.sum(df['RelationshipSatisfaction']==1)\n",
        "RS2 = np.sum(df['RelationshipSatisfaction']==2)\n",
        "RS3 = np.sum(df['RelationshipSatisfaction']==3)\n",
        "RS4 = np.sum(df['RelationshipSatisfaction']==4)\n",
        "y1 = [RS1, RS2, RS3, RS4]\n",
        "y1"
      ],
      "metadata": {
        "id": "MSiaIFs0h7xU",
        "colab": {
          "base_uri": "https://localhost:8080/"
        },
        "outputId": "2bebdccd-5440-454d-d1a1-cdc9876ef8d9"
      },
      "execution_count": 15,
      "outputs": [
        {
          "output_type": "execute_result",
          "data": {
            "text/plain": [
              "[276, 303, 459, 432]"
            ]
          },
          "metadata": {},
          "execution_count": 15
        }
      ]
    },
    {
      "cell_type": "code",
      "source": [
        "# 不同关系满意度离职人数\n",
        "df_rs1 = df[df['RelationshipSatisfaction']==1]\n",
        "df_rs2 = df[df['RelationshipSatisfaction']==2]\n",
        "df_rs3 = df[df['RelationshipSatisfaction']==3]\n",
        "df_rs4 = df[df['RelationshipSatisfaction']==4]\n",
        "RS1_off = np.sum(df_rs1['Attrition']=='Yes')\n",
        "RS2_off = np.sum(df_rs2['Attrition']=='Yes')\n",
        "RS3_off = np.sum(df_rs3['Attrition']=='Yes')\n",
        "RS4_off = np.sum(df_rs4['Attrition']=='Yes')\n",
        "y2 = [RS1_off, RS2_off, RS3_off, RS4_off]\n",
        "y2"
      ],
      "metadata": {
        "colab": {
          "base_uri": "https://localhost:8080/"
        },
        "id": "-pbm1P30I2Pi",
        "outputId": "c9396d3b-a731-4eb8-efff-aff9d3d86765"
      },
      "execution_count": 16,
      "outputs": [
        {
          "output_type": "execute_result",
          "data": {
            "text/plain": [
              "[57, 45, 71, 64]"
            ]
          },
          "metadata": {},
          "execution_count": 16
        }
      ]
    },
    {
      "cell_type": "code",
      "source": [
        "# 不同关系满意度在职人数\n",
        "RS1_on = np.sum(df_rs1['Attrition']=='No')\n",
        "RS2_on = np.sum(df_rs2['Attrition']=='No')\n",
        "RS3_on = np.sum(df_rs3['Attrition']=='No')\n",
        "RS4_on = np.sum(df_rs4['Attrition']=='No')\n",
        "y3 = [RS1_on, RS2_on, RS3_on, RS4_on]"
      ],
      "metadata": {
        "id": "ms8UGI6nJhJq"
      },
      "execution_count": 17,
      "outputs": []
    },
    {
      "cell_type": "code",
      "source": [
        "# 柱状图\n",
        "x = [1, 2]\n",
        "# y1 = np.array(y1)\n",
        "# y2 = np.array(y2)\n",
        "name_list = ['1', '2', '3', '4']\n",
        "plt.bar(range(4), y1, label='on', fc='g')\n",
        "plt.bar(range(4), y2, bottom=y1, label='off', tick_label=name_list, fc='b')\n",
        "plt.legend()\n",
        "plt.show()"
      ],
      "metadata": {
        "colab": {
          "base_uri": "https://localhost:8080/",
          "height": 265
        },
        "id": "x9KYP6G8KPcZ",
        "outputId": "56ab8db7-d024-4ce6-ac7a-715c70d40a2c"
      },
      "execution_count": 18,
      "outputs": [
        {
          "output_type": "display_data",
          "data": {
            "image/png": "[encoded data removed]",
            "text/plain": [
              "<Figure size 432x288 with 1 Axes>"
            ]
          },
          "metadata": {
            "needs_background": "light"
          }
        }
      ]
    },
    {
      "cell_type": "code",
      "source": [
        "# 工作与生活平衡程度柱状图\n",
        "WLB1 = np.sum(df['WorkLifeBalance']==1)\n",
        "WLB2 = np.sum(df['WorkLifeBalance']==2)\n",
        "WLB3 = np.sum(df['WorkLifeBalance']==3)\n",
        "WLB4 = np.sum(df['WorkLifeBalance']==4)\n",
        "y1 = [WLB1, WLB2, WLB3, WLB4]\n",
        "\n",
        "df_wlb1 = df[df['WorkLifeBalance']==1]\n",
        "df_wlb2 = df[df['WorkLifeBalance']==2]\n",
        "df_wlb3 = df[df['WorkLifeBalance']==3]\n",
        "df_wlb4 = df[df['WorkLifeBalance']==4]\n",
        "WLB1_off = np.sum(df_wlb1['Attrition']=='Yes')\n",
        "WLB2_off = np.sum(df_wlb2['Attrition']=='Yes')\n",
        "WLB3_off = np.sum(df_wlb3['Attrition']=='Yes')\n",
        "WLB4_off = np.sum(df_wlb4['Attrition']=='Yes')\n",
        "y2 = [WLB1_off, WLB2_off, WLB3_off, WLB4_off]\n",
        "\n",
        "WLB1_on = np.sum(df_wlb1['Attrition']=='No')\n",
        "WLB2_on = np.sum(df_wlb2['Attrition']=='No')\n",
        "WLB3_on = np.sum(df_wlb3['Attrition']=='No')\n",
        "WLB4_on = np.sum(df_wlb4['Attrition']=='No')\n",
        "y3 = [WLB1_on, WLB2_on, WLB3_on, WLB4_on]\n",
        "\n",
        "# 员工离职率\n",
        "y1, y2, y3, np.array(y2) / np.array(y1)"
      ],
      "metadata": {
        "colab": {
          "base_uri": "https://localhost:8080/"
        },
        "id": "3tDo7YlLKUgY",
        "outputId": "62191ab6-97b8-4c92-aa6e-066f6d17195d"
      },
      "execution_count": 19,
      "outputs": [
        {
          "output_type": "execute_result",
          "data": {
            "text/plain": [
              "([80, 344, 893, 153],\n",
              " [25, 58, 127, 27],\n",
              " [55, 286, 766, 126],\n",
              " array([0.3125    , 0.16860465, 0.14221725, 0.17647059]))"
            ]
          },
          "metadata": {},
          "execution_count": 19
        }
      ]
    },
    {
      "cell_type": "code",
      "source": [
        "# 柱状图\n",
        "x = [1, 2]\n",
        "name_list = ['1', '2', '3', '4']\n",
        "plt.bar(range(4), y1, label='on', fc='g')\n",
        "plt.bar(range(4), y2, bottom=y1, label='off', tick_label=name_list, fc='b')\n",
        "plt.legend()\n",
        "plt.show()"
      ],
      "metadata": {
        "colab": {
          "base_uri": "https://localhost:8080/",
          "height": 265
        },
        "id": "C94Es80JNHkI",
        "outputId": "4f0edbfe-4c3b-49f3-a2d5-147d74f27aea"
      },
      "execution_count": 20,
      "outputs": [
        {
          "output_type": "display_data",
          "data": {
            "image/png": "[encoded data removed]",
            "text/plain": [
              "<Figure size 432x288 with 1 Axes>"
            ]
          },
          "metadata": {
            "needs_background": "light"
          }
        }
      ]
    },
    {
      "cell_type": "code",
      "source": [
        "# 培训次数与离职率关系饼图\n",
        "TTLY0 = np.sum(df['TrainingTimesLastYear']==0)\n",
        "TTLY1 = np.sum(df['TrainingTimesLastYear']==1)\n",
        "TTLY2 = np.sum(df['TrainingTimesLastYear']==2)\n",
        "TTLY3 = np.sum(df['TrainingTimesLastYear']==3)\n",
        "TTLY4 = np.sum(df['TrainingTimesLastYear']==4)\n",
        "TTLY5 = np.sum(df['TrainingTimesLastYear']==5)\n",
        "TTLY6 = np.sum(df['TrainingTimesLastYear']==6)\n",
        "y1 = [TTLY0, TTLY1, TTLY2, TTLY3, TTLY4, TTLY5, TTLY6]\n",
        "\n",
        "df_ttly0 = df[df['TrainingTimesLastYear']==0]\n",
        "df_ttly1 = df[df['TrainingTimesLastYear']==1]\n",
        "df_ttly2 = df[df['TrainingTimesLastYear']==2]\n",
        "df_ttly3 = df[df['TrainingTimesLastYear']==3]\n",
        "df_ttly4 = df[df['TrainingTimesLastYear']==4]\n",
        "df_ttly5 = df[df['TrainingTimesLastYear']==5]\n",
        "df_ttly6 = df[df['TrainingTimesLastYear']==6]\n",
        "\n",
        "TTLY0_off = np.sum(df_ttly0['Attrition']=='Yes')\n",
        "TTLY1_off = np.sum(df_ttly1['Attrition']=='Yes')\n",
        "TTLY2_off = np.sum(df_ttly2['Attrition']=='Yes')\n",
        "TTLY3_off = np.sum(df_ttly3['Attrition']=='Yes')\n",
        "TTLY4_off = np.sum(df_ttly4['Attrition']=='Yes')\n",
        "TTLY5_off = np.sum(df_ttly5['Attrition']=='Yes')\n",
        "TTLY6_off = np.sum(df_ttly6['Attrition']=='Yes')\n",
        "y2 = [TTLY0_off, TTLY1_off, TTLY2_off, TTLY3_off, TTLY4_off, TTLY5_off, TTLY6_off]\n",
        "\n",
        "TTLY0_on = np.sum(df_ttly0['Attrition']=='No')\n",
        "TTLY1_on = np.sum(df_ttly1['Attrition']=='No')\n",
        "TTLY2_on = np.sum(df_ttly2['Attrition']=='No')\n",
        "TTLY3_on = np.sum(df_ttly3['Attrition']=='No')\n",
        "TTLY4_on = np.sum(df_ttly4['Attrition']=='No')\n",
        "TTLY5_on = np.sum(df_ttly5['Attrition']=='No')\n",
        "TTLY6_on = np.sum(df_ttly6['Attrition']=='No')\n",
        "y3 = [TTLY0_on, TTLY1_on, TTLY2_on, TTLY3_on, TTLY4_on, TTLY5_on, TTLY6_on]\n",
        "y1, y2, y3"
      ],
      "metadata": {
        "colab": {
          "base_uri": "https://localhost:8080/"
        },
        "id": "H3kND-BEOx7T",
        "outputId": "64196048-1b12-4d43-ba68-d703ae40e481"
      },
      "execution_count": 21,
      "outputs": [
        {
          "output_type": "execute_result",
          "data": {
            "text/plain": [
              "([54, 71, 547, 491, 123, 119, 65],\n",
              " [15, 9, 98, 69, 26, 14, 6],\n",
              " [39, 62, 449, 422, 97, 105, 59])"
            ]
          },
          "metadata": {},
          "execution_count": 21
        }
      ]
    },
    {
      "cell_type": "code",
      "source": [
        "# 饼图\n",
        "plt.figure(figsize=(18, 8))\n",
        "labels = ['0', '1', '2', '3', '4', '5', '6']\n",
        "fraces = y2\n",
        "explode = (0, 0, 0.08, 0.03, 0, 0, 0)\n",
        "colors = ['lightskyblue', 'tomato', 'green', 'red', 'blue', 'c', 'slategrey']\n",
        "plt.pie(x=fraces, labels=labels, explode=explode, colors=colors)"
      ],
      "metadata": {
        "colab": {
          "base_uri": "https://localhost:8080/",
          "height": 723
        },
        "id": "i0R-LZt3SN9B",
        "outputId": "8e55b955-e6cf-4f19-e558-203659d0a942"
      },
      "execution_count": 22,
      "outputs": [
        {
          "output_type": "execute_result",
          "data": {
            "text/plain": [
              "([<matplotlib.patches.Wedge at 0x7f80f2b85d90>,\n",
              "  <matplotlib.patches.Wedge at 0x7f80f2b901d0>,\n",
              "  <matplotlib.patches.Wedge at 0x7f80f2b90190>,\n",
              "  <matplotlib.patches.Wedge at 0x7f80f2b90890>,\n",
              "  <matplotlib.patches.Wedge at 0x7f80f2b99710>,\n",
              "  <matplotlib.patches.Wedge at 0x7f80f2b99d50>,\n",
              "  <matplotlib.patches.Wedge at 0x7f80f2ba2090>],\n",
              " [Text(1.0783271030344586, 0.21728013913220962, '0'),\n",
              "  Text(0.956252302769501, 0.5436741059201059, '1'),\n",
              "  Text(-0.42068287862933046, 1.102463566576302, '2'),\n",
              "  Text(-0.6034594502119109, -0.9553725409231407, '3'),\n",
              "  Text(0.7052029580792443, -0.8442089717103721, '4'),\n",
              "  Text(1.0353141298331137, -0.37165125126643006, '5'),\n",
              "  Text(1.096522719672932, -0.08739522436081384, '6')])"
            ]
          },
          "metadata": {},
          "execution_count": 22
        },
        {
          "output_type": "display_data",
          "data": {
            "image/png": "[encoded data removed]",
            "text/plain": [
              "<Figure size 1296x576 with 1 Axes>"
            ]
          },
          "metadata": {}
        }
      ]
    },
    {
      "cell_type": "code",
      "source": [
        "# 工作角色\n",
        "plt.figure(figsize=(32, 18))\n",
        "sns.countplot(x='JobRole', hue='Attrition', data=df, ax=plt.subplot(111))\n",
        "plt.tick_params(labelsize=18)"
      ],
      "metadata": {
        "colab": {
          "base_uri": "https://localhost:8080/",
          "height": 1000
        },
        "id": "KKoesv7oS72R",
        "outputId": "b6a4a5cb-acce-4129-9d16-d86ca8b6d2e8"
      },
      "execution_count": 23,
      "outputs": [
        {
          "output_type": "display_data",
          "data": {
            "image/png": "[encoded data removed]",
            "text/plain": [
              "<Figure size 2304x1296 with 1 Axes>"
            ]
          },
          "metadata": {
            "needs_background": "light"
          }
        }
      ]
    },
    {
      "cell_type": "code",
      "source": [
        "# 职位等级分析\n",
        "plt.figure(figsize=(18, 8))\n",
        "sns.countplot(x='JobLevel', hue='Attrition', data=df, ax=plt.subplot(131))"
      ],
      "metadata": {
        "colab": {
          "base_uri": "https://localhost:8080/",
          "height": 515
        },
        "id": "d-p1IqWUUHaK",
        "outputId": "a1adce11-7b4f-41b9-a594-7232b32a5e6a"
      },
      "execution_count": 24,
      "outputs": [
        {
          "output_type": "execute_result",
          "data": {
            "text/plain": [
              "<matplotlib.axes._subplots.AxesSubplot at 0x7f80f2ac2c10>"
            ]
          },
          "metadata": {},
          "execution_count": 24
        },
        {
          "output_type": "display_data",
          "data": {
            "image/png": "[encoded data removed]",
            "text/plain": [
              "<Figure size 1296x576 with 1 Axes>"
            ]
          },
          "metadata": {
            "needs_background": "light"
          }
        }
      ]
    },
    {
      "cell_type": "code",
      "source": [
        "# 收入等级分析\n",
        "def MonthlyIncomeLevel(n):\n",
        "    if 1000 <= n < 8000:\n",
        "        return \"1000-8000\"\n",
        "    if 8000 <= n < 15000:\n",
        "        return \"8000-15000\"\n",
        "    if 15000 <= n <= 20000:\n",
        "        return \"15000-20000\"\n",
        "\n",
        "df['MonthlyIncomeLevel'] = df['MonthlyIncome'].apply(MonthlyIncomeLevel)\n",
        "# 职位等级分析\n",
        "plt.figure(figsize=(18, 8))\n",
        "sns.countplot(x='MonthlyIncomeLevel', hue='Attrition', data=df, ax=plt.subplot(131))"
      ],
      "metadata": {
        "colab": {
          "base_uri": "https://localhost:8080/",
          "height": 515
        },
        "id": "P9Y-XFhZXRAG",
        "outputId": "34b2c6a7-606b-466f-cb4d-cc02e6ff391d"
      },
      "execution_count": 25,
      "outputs": [
        {
          "output_type": "execute_result",
          "data": {
            "text/plain": [
              "<matplotlib.axes._subplots.AxesSubplot at 0x7f80f2a68d50>"
            ]
          },
          "metadata": {},
          "execution_count": 25
        },
        {
          "output_type": "display_data",
          "data": {
            "image/png": "[encoded data removed]",
            "text/plain": [
              "<Figure size 1296x576 with 1 Axes>"
            ]
          },
          "metadata": {
            "needs_background": "light"
          }
        }
      ]
    },
    {
      "cell_type": "code",
      "source": [
        "# 股票期权水平离职人数图  TODO: 使用真实数据修改饼图显示\n",
        "plt.figure(figsize=(18, 8))\n",
        "labels = ['0', '1', '2', '3']\n",
        "fraces = [66.9, 21.3, 4.5, 7.3]\n",
        "explode = (0.05, 0, 0, 0)\n",
        "colors = ['tomato', 'lightskyblue', 'darkorange', 'plum']\n",
        "plt.pie(x=fraces, labels=labels, explode=explode, colors=colors)\n",
        "plt.show()"
      ],
      "metadata": {
        "colab": {
          "base_uri": "https://localhost:8080/",
          "height": 466
        },
        "id": "d6Z20zlDYl-k",
        "outputId": "9edb7916-5272-425b-dba8-2c1a7d34f14c"
      },
      "execution_count": 26,
      "outputs": [
        {
          "output_type": "display_data",
          "data": {
            "image/png": "[encoded data removed]",
            "text/plain": [
              "<Figure size 1296x576 with 1 Axes>"
            ]
          },
          "metadata": {}
        }
      ]
    },
    {
      "cell_type": "code",
      "source": [
        "# 距离上次升职时长\n",
        "df_yslp0 = df[(df['YearsSinceLastPromotion']<5) & (df['YearsSinceLastPromotion']>=0)]\n",
        "df_yslp1 = df[(df['YearsSinceLastPromotion']<10) & (df['YearsSinceLastPromotion']>=5)]\n",
        "df_yslp2 = df[(df['YearsSinceLastPromotion']<=15) & (df['YearsSinceLastPromotion']>=10)]\n",
        "\n",
        "YSLP0_off = np.sum(df_yslp0['Attrition']=='Yes')\n",
        "YSLP1_off = np.sum(df_yslp1['Attrition']=='Yes')\n",
        "YSLP2_off = np.sum(df_yslp2['Attrition']=='Yes')\n",
        "y2 = [YSLP0_off, YSLP1_off, YSLP2_off]\n",
        "\n",
        "YSLP0_on = np.sum(df_yslp0['Attrition']=='No')\n",
        "YSLP1_on = np.sum(df_yslp1['Attrition']=='No')\n",
        "YSLP2_on = np.sum(df_yslp2['Attrition']=='No')\n",
        "y3 = [YSLP0_on, YSLP1_on, YSLP2_on]\n",
        "y1 = [y2[0]+y3[0], y2[1]+y3[1], y2[2]+y3[2]]\n",
        "# y1, y2, y3\n",
        "labels = ['0-5', '5-10', '10-15']\n",
        "fig, ax = plt.subplots(figsize=(8, 4), dpi=80)\n",
        "ax.bar(range(3), y2, tick_label=labels, label='off')\n",
        "ax.bar(range(3), y1, bottom=y2, tick_label=labels, label='on')\n",
        "ax.legend()\n",
        "plt.show()"
      ],
      "metadata": {
        "colab": {
          "base_uri": "https://localhost:8080/",
          "height": 292
        },
        "id": "71Vly6HgbsuW",
        "outputId": "4b81d690-39e2-4f57-d8e7-8ad15263b2d1"
      },
      "execution_count": 27,
      "outputs": [
        {
          "output_type": "display_data",
          "data": {
            "image/png": "[encoded data removed]",
            "text/plain": [
              "<Figure size 640x320 with 1 Axes>"
            ]
          },
          "metadata": {
            "needs_background": "light"
          }
        }
      ]
    },
    {
      "cell_type": "code",
      "source": [
        "# 绩效评分\n",
        "plt.figure(figsize=(28, 8))\n",
        "sns.countplot(x='PerformanceRating', hue='Attrition', data=df, ax=plt.subplot(111))\n",
        "plt.tick_params(labelsize=23)"
      ],
      "metadata": {
        "colab": {
          "base_uri": "https://localhost:8080/",
          "height": 510
        },
        "id": "lTIgmqaJckbH",
        "outputId": "f6a7719b-8a5d-4b60-dca4-5b6f19b7a200"
      },
      "execution_count": 28,
      "outputs": [
        {
          "output_type": "display_data",
          "data": {
            "image/png": "[encoded data removed]",
            "text/plain": [
              "<Figure size 2016x576 with 1 Axes>"
            ]
          },
          "metadata": {
            "needs_background": "light"
          }
        }
      ]
    },
    {
      "cell_type": "code",
      "source": [
        "# 工作参与度\n",
        "plt.figure(figsize=(18, 8))\n",
        "sns.countplot(x='JobInvolvement', hue='Attrition', data=df, ax=plt.subplot(131))"
      ],
      "metadata": {
        "colab": {
          "base_uri": "https://localhost:8080/",
          "height": 515
        },
        "id": "chgyfvDvgdT0",
        "outputId": "0e1ada51-a962-4f25-d0ee-f6fd3a9b8184"
      },
      "execution_count": 29,
      "outputs": [
        {
          "output_type": "execute_result",
          "data": {
            "text/plain": [
              "<matplotlib.axes._subplots.AxesSubplot at 0x7f80f2870750>"
            ]
          },
          "metadata": {},
          "execution_count": 29
        },
        {
          "output_type": "display_data",
          "data": {
            "image/png": "[encoded data removed]",
            "text/plain": [
              "<Figure size 1296x576 with 1 Axes>"
            ]
          },
          "metadata": {
            "needs_background": "light"
          }
        }
      ]
    },
    {
      "cell_type": "code",
      "source": [
        "# 当前在公司工作年数\n",
        "def YearsAtCompanyLevel(n):\n",
        "    if 0 <= n < 5:\n",
        "        return \"0-5\"\n",
        "    if 5 <= n < 10:\n",
        "        return \"5-10\"\n",
        "    if 10 <= n < 20:\n",
        "        return \"10-20\"\n",
        "    if 20 <= n < 30:\n",
        "        return \"20-30\"\n",
        "    if 30 <= n <= 40:\n",
        "        return \"30-40\"\n",
        "\n",
        "df['YearsAtCompanyLevel'] = df['YearsAtCompany'].apply(YearsAtCompanyLevel)\n",
        "plt.figure(figsize=(18, 8))\n",
        "sns.countplot(x='YearsAtCompanyLevel', hue='Attrition', data=df, ax=plt.subplot(131))"
      ],
      "metadata": {
        "colab": {
          "base_uri": "https://localhost:8080/",
          "height": 515
        },
        "id": "RbYiIX_LgvvV",
        "outputId": "44a2c51e-a1b6-4149-b886-ab52af1529b0"
      },
      "execution_count": 30,
      "outputs": [
        {
          "output_type": "execute_result",
          "data": {
            "text/plain": [
              "<matplotlib.axes._subplots.AxesSubplot at 0x7f80f281e050>"
            ]
          },
          "metadata": {},
          "execution_count": 30
        },
        {
          "output_type": "display_data",
          "data": {
            "image/png": "[encoded data removed]",
            "text/plain": [
              "<Figure size 1296x576 with 1 Axes>"
            ]
          },
          "metadata": {
            "needs_background": "light"
          }
        }
      ]
    },
    {
      "cell_type": "code",
      "source": [
        "# 员工工作过的公司\n",
        "x = [x for x in range(10)]\n",
        "y = [0 for x in range(10)]\n",
        "y_ = [0 for x in range(10)]\n",
        "\n",
        "for idx, row in df.iterrows():\n",
        "    y_[row['NumCompaniesWorked']] += 1\n",
        "    if row['Attrition'] == 'Yes':\n",
        "        y[row['NumCompaniesWorked']] += 1\n",
        "\n",
        "y = [yy / yy_ for yy, yy_ in zip(y, y_)]\n",
        "plt.figure()\n",
        "plt.plot(x, y)\n",
        "plt.xlabel('num of company')\n",
        "plt.ylabel('num of off site')\n",
        "# plt.title(\"员工工作过的的公司数量与离职的关系折线图\")"
      ],
      "metadata": {
        "colab": {
          "base_uri": "https://localhost:8080/",
          "height": 299
        },
        "id": "K_s8JvDhg-S6",
        "outputId": "19ba229f-c9d5-49f2-d0f0-e196c75d3ef5"
      },
      "execution_count": 31,
      "outputs": [
        {
          "output_type": "execute_result",
          "data": {
            "text/plain": [
              "Text(0, 0.5, 'num of off site')"
            ]
          },
          "metadata": {},
          "execution_count": 31
        },
        {
          "output_type": "display_data",
          "data": {
            "image/png": "[encoded data removed]",
            "text/plain": [
              "<Figure size 432x288 with 1 Axes>"
            ]
          },
          "metadata": {
            "needs_background": "light"
          }
        }
      ]
    },
    {
      "cell_type": "code",
      "source": [
        "# zhihu上的分析\n",
        "x = ['0-3', '3-6', '6-10']\n",
        "y = [0, 0, 0]\n",
        "y_ = [0, 0, 0]\n",
        "for idx, row in df.iterrows():\n",
        "    if 0 <= row['NumCompaniesWorked'] < 3:\n",
        "        y_[0] += 1\n",
        "        if row['Attrition'] == 'Yes':\n",
        "            y[0] += 1\n",
        "    if 3 <= row['NumCompaniesWorked'] < 6:\n",
        "        y_[1] += 1\n",
        "        if row['Attrition'] == 'Yes':\n",
        "            y[1] += 1\n",
        "    if 6 <= row['NumCompaniesWorked'] < 10:\n",
        "        y_[2] += 1\n",
        "        if row['Attrition'] == 'Yes':\n",
        "            y[2] += 1\n",
        "\n",
        "y = [yy / yy_ for yy, yy_ in zip(y, y_)]\n",
        "plt.figure()\n",
        "plt.plot(x, y)\n",
        "plt.xlabel('num of company')\n",
        "plt.ylabel('num of off site')"
      ],
      "metadata": {
        "colab": {
          "base_uri": "https://localhost:8080/",
          "height": 297
        },
        "id": "yBc2J6NDjGGF",
        "outputId": "e49e1464-f24c-4131-a660-ec86dda0b077"
      },
      "execution_count": 32,
      "outputs": [
        {
          "output_type": "execute_result",
          "data": {
            "text/plain": [
              "Text(0, 0.5, 'num of off site')"
            ]
          },
          "metadata": {},
          "execution_count": 32
        },
        {
          "output_type": "display_data",
          "data": {
            "image/png": "[encoded data removed]",
            "text/plain": [
              "<Figure size 432x288 with 1 Axes>"
            ]
          },
          "metadata": {
            "needs_background": "light"
          }
        }
      ]
    },
    {
      "cell_type": "code",
      "source": [
        ""
      ],
      "metadata": {
        "id": "8di-fnYtsdju"
      },
      "execution_count": 32,
      "outputs": []
    }
  ]
}